{
 "cells": [
  {
   "cell_type": "code",
   "execution_count": 41,
   "metadata": {},
   "outputs": [
    {
     "name": "stdout",
     "output_type": "stream",
     "text": [
      "[1, 1.0, 19.0, 0.2355928214753657]\n",
      "[2, 2.0, 18.0, 0.42151707785286757]\n",
      "[3, 3.0, 17.0, 0.6173948400220799]\n",
      "[4, 4.0, 16.0, 0.8025170738529147]\n",
      "[5, 5.0, 15.0, 0.9761391812288235]\n",
      "[6, 6.0, 14.0, 1.1373947443113137]\n",
      "[7, 7.0, 13.0, 1.2852640590342634]\n",
      "[8, 8.0, 12.0, 1.4185312444020604]\n",
      "[9, 9.0, 11.0, 1.535724418442107]\n",
      "[10, 10.0, 10.0, 1.635030012678535]\n",
      "[11, 11.0, 9.0, 1.7141662018657515]\n",
      "[12, 12.0, 8.0, 1.7701890357152235]\n",
      "[13, 13.0, 7.0, 1.799182401068292]\n",
      "[14, 14.0, 6.0, 1.7957357444334472]\n",
      "[15, 15.0, 5.0, 1.7520066674529196]\n",
      "[16, 16.0, 4.0, 1.6559022611074543]\n",
      "[17, 17.0, 3.0, 1.4872043668014543]\n",
      "[18, 18.0, 2.0, 1.2084832693217296]\n",
      "[19, 19.0, 1.0, 0.7446284920194368]\n"
     ]
    },
    {
     "data": {
      "text/plain": [
       "(-24.0, 1.0)"
      ]
     },
     "execution_count": 41,
     "metadata": {},
     "output_type": "execute_result"
    },
    {
     "data": {
      "image/png": "[encoded data removed]",
      "text/plain": [
       "<Figure size 432x288 with 1 Axes>"
      ]
     },
     "metadata": {
      "needs_background": "light"
     },
     "output_type": "display_data"
    }
   ],
   "source": [
    "from sympy import *\n",
    "from scipy.optimize import fsolve\n",
    "import numpy as np\n",
    "import matplotlib.pyplot as plt\n",
    "\n",
    "import math\n",
    "\n",
    "\n",
    "#laa, lbb, dd = symbols('laa, lbb, dd')\n",
    "L=20            # [m] total length of line\n",
    "W=70             # [kg] weight of slacker\n",
    "W=9.81*W          # [N] conversion to Newtons\n",
    "T=800           # [N] tension in unweighted line\n",
    "c = 0.00001          # [1/N] stretch constant\n",
    "k = L * 0.10 / T\n",
    "nodes = 21       # [-] number of locations sag calc'd at\n",
    "\n",
    "\n",
    "la_list = np.linspace(0,L,nodes).tolist()\n",
    "sag = [0] * len(la_list)\n",
    "\n",
    "#print(la_list)\n",
    "#print(sag)\n",
    "\n",
    "\n",
    "def equations(vars, params):\n",
    "    laa, lbb, dd = vars\n",
    "    la, lb = params\n",
    "    \n",
    "    eq1 = laa**2 - la**2 - dd**2\n",
    "    eq2 = ((((laa/la)-1)/c)+T)*dd/laa + ((((lbb/lb)-1)/c)+T)*dd/lbb - W\n",
    "    eq3 = ((((laa/la)-1)/c)+T)*la/laa - ((((lbb/lb)-1)/c)+T)*lb/lbb\n",
    "    \n",
    "    # eq1 = (laa**2 - dd**2)**0.5 - la\n",
    "    # eq2 = (T*dd + dd*(laa - la)/k)/laa + (T*dd + dd*(lbb - lb)/k)/lbb - W\n",
    "    # eq3 = (T*la + la*(laa - la)/k)/laa - (T*lb + lb*(lbb - lb)/k)/lbb\n",
    "   \n",
    "    return [eq1, eq2, eq3]\n",
    "    \n",
    "        \n",
    "for i in range(1,nodes-1):\n",
    "    la = la_list[i]\n",
    "    lb = L-la\n",
    "    params = [la, lb]\n",
    "    \n",
    "    sol = fsolve(equations, (la, lb, 0), params)\n",
    "    #print(sol)\n",
    "    laa, lbb, dd = sol\n",
    "    sag[i]=-dd\n",
    "    print([i] +params+[dd])\n",
    "    \n",
    "\n",
    "#print(la_list)\n",
    "#print(sag)\n",
    "\n",
    "\n",
    "plt.plot(la_list, sag, 'o', color='black')\n",
    "plt.xlim(0, L)\n",
    "plt.ylim(-L*1.2, 1)\n",
    "\n"
   ]
  },
  {
   "cell_type": "code",
   "execution_count": null,
   "metadata": {},
   "outputs": [],
   "source": []
  },
  {
   "cell_type": "code",
   "execution_count": null,
   "metadata": {},
   "outputs": [],
   "source": []
  }
 ],
 "metadata": {
  "kernelspec": {
   "display_name": "Python 3",
   "language": "python",
   "name": "python3"
  },
  "language_info": {
   "codemirror_mode": {
    "name": "ipython",
    "version": 3
   },
   "file_extension": ".py",
   "mimetype": "text/x-python",
   "name": "python",
   "nbconvert_exporter": "python",
   "pygments_lexer": "ipython3",
   "version": "3.8.3"
  }
 },
 "nbformat": 4,
 "nbformat_minor": 4
}
